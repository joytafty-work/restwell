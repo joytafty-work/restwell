{
 "metadata": {
  "name": ""
 },
 "nbformat": 3,
 "nbformat_minor": 0,
 "worksheets": [
  {
   "cells": [
    {
     "cell_type": "code",
     "collapsed": false,
     "input": [
      "temp = [{\"dateTime\": \"2013-05-17\", \"value\": \"22:06\"}, {\"dateTime\": \"2013-05-18\", \"value\": \"04:03\"}, {\"dateTime\": \"2013-05-19\", \"value\": \"01:48\"}, {\"dateTime\": \"2013-05-20\", \"value\": \"02:23\"}, {\"dateTime\": \"2013-05-22\", \"value\": \"02:25\"}, {\"dateTime\": \"2013-05-23\", \"value\": \"04:15\"}, {\"dateTime\": \"2013-05-26\", \"value\": \"03:49\"}, {\"dateTime\": \"2013-05-30\", \"value\": \"20:47\"}, {\"dateTime\": \"2013-05-31\", \"value\": \"10:09\"}, {\"dateTime\": \"2013-06-08\", \"value\": \"01:30\"}, {\"dateTime\": \"2013-06-29\", \"value\": \"23:51\"}, {\"dateTime\": \"2013-07-22\", \"value\": \"16:34\"}, {\"dateTime\": \"2013-07-23\", \"value\": \"08:23\"}, {\"dateTime\": \"2013-08-10\", \"value\": \"04:32\"}, {\"dateTime\": \"2013-09-02\", \"value\": \"01:45\"}, {\"dateTime\": \"2013-09-03\", \"value\": \"01:45\"}, {\"dateTime\": \"2013-09-04\", \"value\": \"01:40\"}, {\"dateTime\": \"2013-09-12\", \"value\": \"01:50\"}, {\"dateTime\": \"2013-09-24\", \"value\": \"02:32\"}, {\"dateTime\": \"2013-10-30\", \"value\": \"14:26\"}, {\"dateTime\": \"2013-10-31\", \"value\": \"01:25\"}]"
     ],
     "language": "python",
     "metadata": {},
     "outputs": [],
     "prompt_number": 1
    },
    {
     "cell_type": "code",
     "collapsed": false,
     "input": [
      "date = dict((t['dateTime'], i) for i, t in enumerate(temp))\n",
      "date = date.keys()\n",
      "\n",
      "startTime = list(xrange(len(date)))\n",
      "\n",
      "for j in range(len(date)):\n",
      "    print j\n",
      "    dtemp = date[j]\n",
      "    startTime[j] = [e['value'] for e in startTime_temp if e['dateTime'] == dtemp]"
     ],
     "language": "python",
     "metadata": {},
     "outputs": [
      {
       "ename": "NameError",
       "evalue": "name 'startTime_temp' is not defined",
       "output_type": "pyerr",
       "traceback": [
        "\u001b[0;31m---------------------------------------------------------------------------\u001b[0m\n\u001b[0;31mNameError\u001b[0m                                 Traceback (most recent call last)",
        "\u001b[0;32m<ipython-input-4-f6b5de0ed706>\u001b[0m in \u001b[0;36m<module>\u001b[0;34m()\u001b[0m\n\u001b[1;32m      6\u001b[0m     \u001b[0;32mprint\u001b[0m \u001b[0mj\u001b[0m\u001b[0;34m\u001b[0m\u001b[0m\n\u001b[1;32m      7\u001b[0m     \u001b[0mdtemp\u001b[0m \u001b[0;34m=\u001b[0m \u001b[0mdate\u001b[0m\u001b[0;34m[\u001b[0m\u001b[0mj\u001b[0m\u001b[0;34m]\u001b[0m\u001b[0;34m\u001b[0m\u001b[0m\n\u001b[0;32m----> 8\u001b[0;31m     \u001b[0mstartTime\u001b[0m\u001b[0;34m[\u001b[0m\u001b[0mj\u001b[0m\u001b[0;34m]\u001b[0m \u001b[0;34m=\u001b[0m \u001b[0;34m[\u001b[0m\u001b[0me\u001b[0m\u001b[0;34m[\u001b[0m\u001b[0;34m'value'\u001b[0m\u001b[0;34m]\u001b[0m \u001b[0;32mfor\u001b[0m \u001b[0me\u001b[0m \u001b[0;32min\u001b[0m \u001b[0mstartTime_temp\u001b[0m \u001b[0;32mif\u001b[0m \u001b[0me\u001b[0m\u001b[0;34m[\u001b[0m\u001b[0;34m'dateTime'\u001b[0m\u001b[0;34m]\u001b[0m \u001b[0;34m==\u001b[0m \u001b[0mdtemp\u001b[0m\u001b[0;34m]\u001b[0m\u001b[0;34m\u001b[0m\u001b[0m\n\u001b[0m",
        "\u001b[0;31mNameError\u001b[0m: name 'startTime_temp' is not defined"
       ]
      },
      {
       "output_type": "stream",
       "stream": "stdout",
       "text": [
        "0\n"
       ]
      }
     ],
     "prompt_number": 4
    },
    {
     "cell_type": "code",
     "collapsed": false,
     "input": [],
     "language": "python",
     "metadata": {},
     "outputs": []
    }
   ],
   "metadata": {}
  }
 ]
}
{
 "metadata": {
  "name": ""
 },
 "nbformat": 3,
 "nbformat_minor": 0,
 "worksheets": [
  {
   "cells": [
    {
     "cell_type": "code",
     "collapsed": false,
     "input": [
      "import fitbit\n",
      "import os, requests\n",
      "from client import Client\n",
      "import datetime\n",
      "\n",
      "__all__ = [\"Client\"]\n",
      "c = Client.login(os.getenv('fbEMAIL'), os.getenv('fbPASSWORD'))\n",
      "fb = fitbit.Fitbit(\n",
      "        os.getenv('CONSUMER_KEY'),\n",
      "        os.getenv('CONSUMER_SECRET'), \n",
      "        user_key=os.getenv('USER_KEY'),\n",
      "        user_secret=os.getenv('USER_SECRET'))\n",
      "\n",
      "# params = dict(\n",
      "#             userId=self.user_id,\n",
      "#             type=graph_type,\n",
      "#             version=\"amchart\",\n",
      "#             dataVersion=data_version,\n",
      "#             chart_Type=\"column2d\",\n",
      "#             period=\"1d\",\n",
      "#             dateTo=str(date)\n",
      "#         )\n",
      "\n",
      "\n",
      "date = datetime.datetime.strptime('2013-11-01', '%Y-%m-%d').date()\n",
      "print dir(fb.time_series('/graph/getGraphData', period='1d'))\n",
      "\n",
      "calories_intra = fb.time_series('activities/log/steps', period='1d')\n",
      "# date = datetime.date.today();\n"
     ],
     "language": "python",
     "metadata": {},
     "outputs": [
      {
       "ename": "HTTPUnauthorized",
       "evalue": "",
       "output_type": "pyerr",
       "traceback": [
        "\u001b[0;31m---------------------------------------------------------------------------\u001b[0m\n\u001b[0;31mHTTPUnauthorized\u001b[0m                          Traceback (most recent call last)",
        "\u001b[0;32m<ipython-input-9-89c78e78c4b9>\u001b[0m in \u001b[0;36m<module>\u001b[0;34m()\u001b[0m\n\u001b[1;32m     24\u001b[0m \u001b[0;34m\u001b[0m\u001b[0m\n\u001b[1;32m     25\u001b[0m \u001b[0mdate\u001b[0m \u001b[0;34m=\u001b[0m \u001b[0mdatetime\u001b[0m\u001b[0;34m.\u001b[0m\u001b[0mdatetime\u001b[0m\u001b[0;34m.\u001b[0m\u001b[0mstrptime\u001b[0m\u001b[0;34m(\u001b[0m\u001b[0;34m'2013-11-01'\u001b[0m\u001b[0;34m,\u001b[0m \u001b[0;34m'%Y-%m-%d'\u001b[0m\u001b[0;34m)\u001b[0m\u001b[0;34m.\u001b[0m\u001b[0mdate\u001b[0m\u001b[0;34m(\u001b[0m\u001b[0;34m)\u001b[0m\u001b[0;34m\u001b[0m\u001b[0m\n\u001b[0;32m---> 26\u001b[0;31m \u001b[0;32mprint\u001b[0m \u001b[0mdir\u001b[0m\u001b[0;34m(\u001b[0m\u001b[0mfb\u001b[0m\u001b[0;34m.\u001b[0m\u001b[0mtime_series\u001b[0m\u001b[0;34m(\u001b[0m\u001b[0;34m'/graph/getGraphData'\u001b[0m\u001b[0;34m,\u001b[0m \u001b[0mperiod\u001b[0m\u001b[0;34m=\u001b[0m\u001b[0;34m'1d'\u001b[0m\u001b[0;34m)\u001b[0m\u001b[0;34m)\u001b[0m\u001b[0;34m\u001b[0m\u001b[0m\n\u001b[0m\u001b[1;32m     27\u001b[0m \u001b[0;34m\u001b[0m\u001b[0m\n\u001b[1;32m     28\u001b[0m \u001b[0mcalories_intra\u001b[0m \u001b[0;34m=\u001b[0m \u001b[0mfb\u001b[0m\u001b[0;34m.\u001b[0m\u001b[0mtime_series\u001b[0m\u001b[0;34m(\u001b[0m\u001b[0;34m'activities/log/steps'\u001b[0m\u001b[0;34m,\u001b[0m \u001b[0mperiod\u001b[0m\u001b[0;34m=\u001b[0m\u001b[0;34m'1d'\u001b[0m\u001b[0;34m)\u001b[0m\u001b[0;34m\u001b[0m\u001b[0m\n",
        "\u001b[0;32m/Library/Python/2.7/site-packages/fitbit/api.pyc\u001b[0m in \u001b[0;36mtime_series\u001b[0;34m(self, resource, user_id, base_date, period, end_date)\u001b[0m\n\u001b[1;32m    364\u001b[0m             \u001b[0mend\u001b[0m\u001b[0;34m\u001b[0m\u001b[0m\n\u001b[1;32m    365\u001b[0m         )\n\u001b[0;32m--> 366\u001b[0;31m         \u001b[0;32mreturn\u001b[0m \u001b[0mself\u001b[0m\u001b[0;34m.\u001b[0m\u001b[0mmake_request\u001b[0m\u001b[0;34m(\u001b[0m\u001b[0murl\u001b[0m\u001b[0;34m)\u001b[0m\u001b[0;34m\u001b[0m\u001b[0m\n\u001b[0m\u001b[1;32m    367\u001b[0m \u001b[0;34m\u001b[0m\u001b[0m\n\u001b[1;32m    368\u001b[0m     \u001b[0;32mdef\u001b[0m \u001b[0mactivity_stats\u001b[0m\u001b[0;34m(\u001b[0m\u001b[0mself\u001b[0m\u001b[0;34m,\u001b[0m \u001b[0muser_id\u001b[0m\u001b[0;34m=\u001b[0m\u001b[0mNone\u001b[0m\u001b[0;34m,\u001b[0m \u001b[0mqualifier\u001b[0m\u001b[0;34m=\u001b[0m\u001b[0;34m''\u001b[0m\u001b[0;34m)\u001b[0m\u001b[0;34m:\u001b[0m\u001b[0;34m\u001b[0m\u001b[0m\n",
        "\u001b[0;32m/Library/Python/2.7/site-packages/fitbit/api.pyc\u001b[0m in \u001b[0;36mmake_request\u001b[0;34m(self, *args, **kwargs)\u001b[0m\n\u001b[1;32m    199\u001b[0m \u001b[0;34m\u001b[0m\u001b[0m\n\u001b[1;32m    200\u001b[0m         \u001b[0mmethod\u001b[0m \u001b[0;34m=\u001b[0m \u001b[0mkwargs\u001b[0m\u001b[0;34m.\u001b[0m\u001b[0mget\u001b[0m\u001b[0;34m(\u001b[0m\u001b[0;34m'method'\u001b[0m\u001b[0;34m,\u001b[0m \u001b[0;34m'POST'\u001b[0m \u001b[0;32mif\u001b[0m \u001b[0;34m'data'\u001b[0m \u001b[0;32min\u001b[0m \u001b[0mkwargs\u001b[0m \u001b[0;32melse\u001b[0m \u001b[0;34m'GET'\u001b[0m\u001b[0;34m)\u001b[0m\u001b[0;34m\u001b[0m\u001b[0m\n\u001b[0;32m--> 201\u001b[0;31m         \u001b[0mresponse\u001b[0m \u001b[0;34m=\u001b[0m \u001b[0mself\u001b[0m\u001b[0;34m.\u001b[0m\u001b[0mclient\u001b[0m\u001b[0;34m.\u001b[0m\u001b[0mmake_request\u001b[0m\u001b[0;34m(\u001b[0m\u001b[0;34m*\u001b[0m\u001b[0margs\u001b[0m\u001b[0;34m,\u001b[0m \u001b[0;34m**\u001b[0m\u001b[0mkwargs\u001b[0m\u001b[0;34m)\u001b[0m\u001b[0;34m\u001b[0m\u001b[0m\n\u001b[0m\u001b[1;32m    202\u001b[0m \u001b[0;34m\u001b[0m\u001b[0m\n\u001b[1;32m    203\u001b[0m         \u001b[0;32mif\u001b[0m \u001b[0mresponse\u001b[0m\u001b[0;34m.\u001b[0m\u001b[0mstatus_code\u001b[0m \u001b[0;34m==\u001b[0m \u001b[0;36m202\u001b[0m\u001b[0;34m:\u001b[0m\u001b[0;34m\u001b[0m\u001b[0m\n",
        "\u001b[0;32m/Library/Python/2.7/site-packages/fitbit/api.pyc\u001b[0m in \u001b[0;36mmake_request\u001b[0;34m(self, url, data, method, **kwargs)\u001b[0m\n\u001b[1;32m     61\u001b[0m \u001b[0;34m\u001b[0m\u001b[0m\n\u001b[1;32m     62\u001b[0m         \u001b[0;32mif\u001b[0m \u001b[0mresponse\u001b[0m\u001b[0;34m.\u001b[0m\u001b[0mstatus_code\u001b[0m \u001b[0;34m==\u001b[0m \u001b[0;36m401\u001b[0m\u001b[0;34m:\u001b[0m\u001b[0;34m\u001b[0m\u001b[0m\n\u001b[0;32m---> 63\u001b[0;31m             \u001b[0;32mraise\u001b[0m \u001b[0mHTTPUnauthorized\u001b[0m\u001b[0;34m(\u001b[0m\u001b[0mresponse\u001b[0m\u001b[0;34m)\u001b[0m\u001b[0;34m\u001b[0m\u001b[0m\n\u001b[0m\u001b[1;32m     64\u001b[0m         \u001b[0;32melif\u001b[0m \u001b[0mresponse\u001b[0m\u001b[0;34m.\u001b[0m\u001b[0mstatus_code\u001b[0m \u001b[0;34m==\u001b[0m \u001b[0;36m403\u001b[0m\u001b[0;34m:\u001b[0m\u001b[0;34m\u001b[0m\u001b[0m\n\u001b[1;32m     65\u001b[0m             \u001b[0;32mraise\u001b[0m \u001b[0mHTTPForbidden\u001b[0m\u001b[0;34m(\u001b[0m\u001b[0mresponse\u001b[0m\u001b[0;34m)\u001b[0m\u001b[0;34m\u001b[0m\u001b[0m\n",
        "\u001b[0;31mHTTPUnauthorized\u001b[0m: "
       ]
      }
     ],
     "prompt_number": 9
    },
    {
     "cell_type": "code",
     "collapsed": false,
     "input": [
      "# To do: \n",
      "# 1. Load/Read data from sleepRecord.json\n",
      "# 2. Load/Read intraday data"
     ],
     "language": "python",
     "metadata": {},
     "outputs": [],
     "prompt_number": 54
    },
    {
     "cell_type": "code",
     "collapsed": false,
     "input": [
      "date = datetime.datetime.strptime('2013-11-01', '%Y-%m-%d').date()\n",
      "\n",
      "# Get list of dates from sleep dataset\n",
      "\n",
      "\n",
      "# Read intraday data for each date\n",
      "import numpy as np\n",
      "calories_intra = c.intraday_calories_burned(date)\n",
      "sleep_intra = c.intraday_sleep(date)\n",
      "steps_intra = c.intraday_steps(date)\n",
      "\n",
      "# intraday time data -- use for indexing the measurements\n",
      "tdt = [steps_intra[j][0].time() for j in range(len(steps_intra))]\n",
      "tsteps = [steps_intra[j][0].time() for j in range(len(steps_intra))]\n",
      "tdminute = [[steps_intra[j][0].time().hour*60 + steps_intra[j][0].time().minute] for j in range(len(steps_intra))]\n",
      "# intraday data\n",
      "calories_t = [calories_intra[j][1] for j in range(len(calories_intra))]\n",
      "steps_t = [steps_intra[j][1] for j in range(len(steps_intra))]\n",
      "sleep_t = [sleep_intra[j][1] for j in range(len(sleep_intra))]"
     ],
     "language": "python",
     "metadata": {},
     "outputs": [
      {
       "output_type": "stream",
       "stream": "stdout",
       "text": [
        "0\n",
        "5\n",
        "[[0], [5], [10], [15], [20], [25], [30], [35], [40], [45], [50], [55], [60], [65], [70], [75], [80], [85], [90], [95], [100], [105], [110], [115], [120], [125], [130], [135], [140], [145], [150], [155], [160], [165], [170], [175], [180], [185], [190], [195], [200], [205], [210], [215], [220], [225], [230], [235], [240], [245], [250], [255], [260], [265], [270], [275], [280], [285], [290], [295], [300], [305], [310], [315], [320], [325], [330], [335], [340], [345], [350], [355], [360], [365], [370], [375], [380], [385], [390], [395], [400], [405], [410], [415], [420], [425], [430], [435], [440], [445], [450], [455], [460], [465], [470], [475], [480], [485], [490], [495], [500], [505], [510], [515], [520], [525], [530], [535], [540], [545], [550], [555], [560], [565], [570], [575], [580], [585], [590], [595], [600], [605], [610], [615], [620], [625], [630], [635], [640], [645], [650], [655], [660], [665], [670], [675], [680], [685], [690], [695], [700], [705], [710], [715], [720], [725], [730], [735], [740], [745], [750], [755], [760], [765], [770], [775], [780], [785], [790], [795], [800], [805], [810], [815], [820], [825], [830], [835], [840], [845], [850], [855], [860], [865], [870], [875], [880], [885], [890], [895], [900], [905], [910], [915], [920], [925], [930], [935], [940], [945], [950], [955], [960], [965], [970], [975], [980], [985], [990], [995], [1000], [1005], [1010], [1015], [1020], [1025], [1030], [1035], [1040], [1045], [1050], [1055], [1060], [1065], [1070], [1075], [1080], [1085], [1090], [1095], [1100], [1105], [1110], [1115], [1120], [1125], [1130], [1135], [1140], [1145], [1150], [1155], [1160], [1165], [1170], [1175], [1180], [1185], [1190], [1195], [1200], [1205], [1210], [1215], [1220], [1225], [1230], [1235], [1240], [1245], [1250], [1255], [1260], [1265], [1270], [1275], [1280], [1285], [1290], [1295], [1300], [1305], [1310], [1315], [1320], [1325], [1330], [1335], [1340], [1345], [1350], [1355], [1360], [1365], [1370], [1375], [1380], [1385], [1390], [1395], [1400], [1405], [1410], [1415], [1420], [1425], [1430], [1435]]\n"
       ]
      }
     ],
     "prompt_number": 70
    },
    {
     "cell_type": "code",
     "collapsed": false,
     "input": [
      "import requests, json\n",
      "import pandas as pd\n",
      "temp = [{\"bedTime\": [[\"22:06\"], [\"04:03\"], [\"01:48\"], [\"02:23\"], [\"02:25\"], [\"04:15\"], [\"03:49\"], [\"20:47\"], [\"10:09\"], [\"01:30\"], [\"23:51\"], [\"16:34\"], [\"08:23\"], [\"04:32\"], [\"01:45\"], [\"01:45\"], [\"01:40\"], [\"01:50\"], [\"02:32\"], [\"14:26\"], [\"01:25\"], [\"23:28\"], [\"02:52\"]], \"minutesAfterWakeup\": [[\"0\"], [\"0\"], [\"0\"], [\"0\"], [\"0\"], [\"0\"], [\"0\"], [\"0\"], [\"4\"], [\"0\"], [\"0\"], [\"0\"], [\"0\"], [\"0\"], [\"0\"], [\"0\"], [\"0\"], [\"0\"], [\"6\"], [\"0\"], [\"0\"], [\"0\"], [\"1\"]], \"awakeTime\": [[\"22:31\"], [\"08:38\"], [\"06:26\"], [\"09:10\"], [\"09:45\"], [\"08:44\"], [\"12:09\"], [\"12:48\"], [\"15:15\"], [\"09:30\"], [\"15:52\"], [\"16:46\"], [\"09:38\"], [\"08:49\"], [\"08:30\"], [\"08:30\"], [\"08:09\"], [\"09:30\"], [\"10:17\"], [\"21:31\"], [\"17:26\"], [\"10:02\"], [\"10:19\"]], \"minutesToFallAsleep\": [[\"5\"], [\"0\"], [\"18\"], [\"44\"], [\"4\"], [\"0\"], [\"16\"], [\"0\"], [\"5\"], [\"0\"], [\"3\"], [\"0\"], [\"5\"], [\"11\"], [\"0\"], [\"0\"], [\"9\"], [\"6\"], [\"7\"], [\"2\"], [\"7\"], [\"4\"], [\"17\"]], \"minutesAwake\": [[\"1\"], [\"0\"], [\"0\"], [\"7\"], [\"4\"], [\"11\"], [\"0\"], [\"117\"], [\"66\"], [\"0\"], [\"77\"], [\"0\"], [\"0\"], [\"2\"], [\"0\"], [\"5\"], [\"1\"], [\"7\"], [\"0\"], [\"77\"], [\"121\"], [\"3\"], [\"0\"]], \"minutesAsleep\": [[\"19\"], [\"275\"], [\"260\"], [\"356\"], [\"432\"], [\"258\"], [\"484\"], [\"844\"], [\"231\"], [\"480\"], [\"881\"], [\"12\"], [\"70\"], [\"244\"], [\"405\"], [\"400\"], [\"379\"], [\"447\"], [\"452\"], [\"346\"], [\"833\"], [\"627\"], [\"429\"]], \"efficiency\": [[\"95\"], [\"100\"], [\"100\"], [\"98\"], [\"99\"], [\"96\"], [\"100\"], [\"88\"], [\"78\"], [\"100\"], [\"92\"], [\"100\"], [\"100\"], [\"99\"], [\"100\"], [\"99\"], [\"100\"], [\"98\"], [\"100\"], [\"82\"], [\"87\"], [\"100\"], [\"100\"]], \"timeInBed\": [[\"25\"], [\"275\"], [\"278\"], [\"407\"], [\"440\"], [\"269\"], [\"500\"], [\"961\"], [\"306\"], [\"480\"], [\"961\"], [\"12\"], [\"75\"], [\"257\"], [\"405\"], [\"405\"], [\"389\"], [\"460\"], [\"465\"], [\"425\"], [\"961\"], [\"634\"], [\"447\"]], \"date\": [\"2013-05-17\", \"2013-05-18\", \"2013-05-19\", \"2013-05-20\", \"2013-05-22\", \"2013-05-23\", \"2013-05-26\", \"2013-05-30\", \"2013-05-31\", \"2013-06-08\", \"2013-06-29\", \"2013-07-22\", \"2013-07-23\", \"2013-08-10\", \"2013-09-02\", \"2013-09-03\", \"2013-09-04\", \"2013-09-12\", \"2013-09-24\", \"2013-10-30\", \"2013-10-31\", \"2013-11-22\", \"2013-11-24\"]}]\n",
      "url = \"http://restwell.herokuapp.com/sleep/sleepRecord.json\"\n",
      "resp = requests.get(url=url)\n",
      "data = json.load(resp.content)\n",
      "# print data\n",
      "\n",
      "# d = pd.read_json('JSON File')\n"
     ],
     "language": "python",
     "metadata": {},
     "outputs": [
      {
       "output_type": "stream",
       "stream": "stdout",
       "text": [
        "<Response [500]>\n"
       ]
      }
     ],
     "prompt_number": 7
    },
    {
     "cell_type": "code",
     "collapsed": false,
     "input": [
      "data = temp;"
     ],
     "language": "python",
     "metadata": {},
     "outputs": [],
     "prompt_number": 3
    },
    {
     "cell_type": "code",
     "collapsed": false,
     "input": [
      "date = dict((t['dateTime'], i) for i, t in enumerate(temp))\n",
      "date = date.keys()\n",
      "startTime = list(xrange(len(date)))\n",
      "print startTime_temp.viewkeys()\n",
      "\n",
      "for j in range(len(date)):\n",
      "    dtemp = date[j]\n",
      "    startTime[j] = [e['value'] for e in startTime_temp['sleep-startTime'] if e['dateTime'] == dtemp]\n",
      "print startTime"
     ],
     "language": "python",
     "metadata": {},
     "outputs": [
      {
       "output_type": "stream",
       "stream": "stdout",
       "text": [
        "dict_keys(['sleep-startTime'])\n",
        "[['22:06'], ['01:25'], ['04:32'], ['23:51'], ['01:30'], ['02:32'], ['01:40'], ['04:03'], ['01:48'], ['01:50'], ['08:23'], ['16:34'], ['14:26'], ['10:09'], ['20:47'], ['03:49'], ['01:45'], ['01:45'], ['04:15'], ['02:25'], ['02:23']]\n"
       ]
      }
     ],
     "prompt_number": 22
    },
    {
     "cell_type": "code",
     "collapsed": false,
     "input": [
      "from itertools import izip\n",
      "date = data['date']\n",
      "bedTime = data['bedTime']\n",
      "timeInBed = data['timeInBed']\n",
      "awakeTime = data['awakeTime']\n",
      "\n",
      "sorted_list = sorted(izip(date, bedTime, timeInBed, awakeTime), key=lambda x:x[0])\n",
      "print len(sorted_list[0])\n",
      "date, bedTime, timeInBed, awakeTime = [[x[i] for x in sorted_list] for i in range(len(sorted_list[0]))]\n"
     ],
     "language": "python",
     "metadata": {},
     "outputs": [
      {
       "output_type": "stream",
       "stream": "stdout",
       "text": [
        "4\n"
       ]
      }
     ],
     "prompt_number": 18
    },
    {
     "cell_type": "code",
     "collapsed": false,
     "input": [],
     "language": "python",
     "metadata": {},
     "outputs": []
    }
   ],
   "metadata": {}
  }
 ]
}
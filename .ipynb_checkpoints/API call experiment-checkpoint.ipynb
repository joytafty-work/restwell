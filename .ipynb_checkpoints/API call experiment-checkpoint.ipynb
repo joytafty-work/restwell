{
 "metadata": {
  "name": ""
 },
 "nbformat": 3,
 "nbformat_minor": 0,
 "worksheets": [
  {
   "cells": [
    {
     "cell_type": "code",
     "collapsed": false,
     "input": [
      "import httplib, time, ConfigParser, sys, os\n",
      "import oauth2 as oauth"
     ],
     "language": "python",
     "metadata": {},
     "outputs": [],
     "prompt_number": 7
    },
    {
     "cell_type": "code",
     "collapsed": false,
     "input": [
      "config = ConfigParser.RawConfigParser()\n",
      "CONSUMER_KEY = os.getenv(\"FITBIT_KEY\")\n",
      "CONSUMER_SECRET = os.getenv(\"FITBIT_SECRET\")\n",
      "SERVER = \"api.fitbit.com\""
     ],
     "language": "python",
     "metadata": {},
     "outputs": [],
     "prompt_number": 8
    },
    {
     "cell_type": "code",
     "collapsed": false,
     "input": [
      "REQUEST_TOKEN_URL = 'http://%s/oauth/request_token' % SERVER \n",
      "ACCESS_TOKEN_URL = 'http://%s/oauth/access_token' % SERVER \n",
      "AUTHORIZATION_URL = 'http://%s/oauth/authorize' % SERVER"
     ],
     "language": "python",
     "metadata": {},
     "outputs": [],
     "prompt_number": 9
    },
    {
     "cell_type": "code",
     "collapsed": false,
     "input": [
      "connection = httplib.HTTPSConnection(SERVER)\n",
      "consumer = oauth.Consumer(CONSUMER_KEY, CONSUMER_SECRET)\n",
      "oauth_request = oauth.Request.from_consumer_and_token(consumer, http_url=REQUEST_TOKEN_URL)\n",
      "print connection\n",
      "print consumer\n",
      "print oauth_request"
     ],
     "language": "python",
     "metadata": {},
     "outputs": [
      {
       "output_type": "stream",
       "stream": "stdout",
       "text": [
        "<httplib.HTTPSConnection instance at 0x111f2b098>\n"
       ]
      }
     ],
     "prompt_number": 15
    },
    {
     "cell_type": "code",
     "collapsed": false,
     "input": [],
     "language": "python",
     "metadata": {},
     "outputs": []
    }
   ],
   "metadata": {}
  }
 ]
}
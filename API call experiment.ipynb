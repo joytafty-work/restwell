{
 "metadata": {
  "name": ""
 },
 "nbformat": 3,
 "nbformat_minor": 0,
 "worksheets": [
  {
   "cells": [
    {
     "cell_type": "code",
     "collapsed": false,
     "input": [
      "import httplib, time, ConfigParser, sys, os\n",
      "import oauth2 as oauth"
     ],
     "language": "python",
     "metadata": {},
     "outputs": [],
     "prompt_number": 7
    },
    {
     "cell_type": "code",
     "collapsed": false,
     "input": [
      "config = ConfigParser.RawConfigParser()\n",
      "CONSUMER_KEY = os.getenv(\"FITBIT_KEY\")\n",
      "CONSUMER_SECRET = os.getenv(\"FITBIT_SECRET\")\n",
      "SERVER = \"api.fitbit.com\""
     ],
     "language": "python",
     "metadata": {},
     "outputs": [],
     "prompt_number": 8
    },
    {
     "cell_type": "code",
     "collapsed": false,
     "input": [
      "REQUEST_TOKEN_URL = 'http://%s/oauth/request_token' % SERVER \n",
      "ACCESS_TOKEN_URL = 'http://%s/oauth/access_token' % SERVER \n",
      "AUTHORIZATION_URL = 'http://%s/oauth/authorize' % SERVER"
     ],
     "language": "python",
     "metadata": {},
     "outputs": [],
     "prompt_number": 9
    },
    {
     "cell_type": "code",
     "collapsed": false,
     "input": [
      "connection = httplib.HTTPSConnection(SERVER)\n",
      "consumer = oauth.Consumer(CONSUMER_KEY, CONSUMER_SECRET)\n",
      "oauth_request = oauth.Request.from_consumer_and_token(consumer, http_url=REQUEST_TOKEN_URL)\n",
      "signature_method = oauth.SignatureMethod_PLAINTEXT()\n",
      "print connection\n",
      "print consumer\n",
      "print oauth_request\n",
      "print signature_method"
     ],
     "language": "python",
     "metadata": {},
     "outputs": [
      {
       "output_type": "stream",
       "stream": "stdout",
       "text": [
        "<httplib.HTTPSConnection instance at 0x111f2b200>\n",
        "oauth_consumer_key=e83cb29ae0f0439e8aeb2704b5e9eaa4&oauth_consumer_secret=77fdd761c63247868627cc4ed2114306\n",
        "{u'oauth_version': u'1.0', u'oauth_consumer_key': u'e83cb29ae0f0439e8aeb2704b5e9eaa4', u'oauth_nonce': u'92818458', u'oauth_timestamp': u'1385656682'}\n",
        "<oauth2.SignatureMethod_PLAINTEXT object at 0x111ef3b90>\n"
       ]
      }
     ],
     "prompt_number": 18
    },
    {
     "cell_type": "code",
     "collapsed": false,
     "input": [],
     "language": "python",
     "metadata": {},
     "outputs": []
    }
   ],
   "metadata": {}
  }
 ]
}
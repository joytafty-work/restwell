{
 "metadata": {
  "name": ""
 },
 "nbformat": 3,
 "nbformat_minor": 0,
 "worksheets": [
  {
   "cells": [
    {
     "cell_type": "code",
     "collapsed": false,
     "input": [
      "dattemp = {\"sleep-minutesAsleep\": [{\"dateTime\": \"2013-05-17\", \"value\": \"19\"}, {\"dateTime\": \"2013-05-18\", \"value\": \"275\"}, {\"dateTime\": \"2013-05-19\", \"value\": \"260\"}, {\"dateTime\": \"2013-05-20\", \"value\": \"356\"}, {\"dateTime\": \"2013-05-22\", \"value\": \"432\"}, {\"dateTime\": \"2013-05-23\", \"value\": \"258\"}, {\"dateTime\": \"2013-05-26\", \"value\": \"484\"}, {\"dateTime\": \"2013-05-30\", \"value\": \"844\"}, {\"dateTime\": \"2013-05-31\", \"value\": \"231\"}, {\"dateTime\": \"2013-06-08\", \"value\": \"480\"}, {\"dateTime\": \"2013-06-29\", \"value\": \"881\"}, {\"dateTime\": \"2013-07-22\", \"value\": \"12\"}, {\"dateTime\": \"2013-07-23\", \"value\": \"70\"}, {\"dateTime\": \"2013-08-10\", \"value\": \"244\"}, {\"dateTime\": \"2013-09-02\", \"value\": \"405\"}, {\"dateTime\": \"2013-09-03\", \"value\": \"400\"}, {\"dateTime\": \"2013-09-04\", \"value\": \"379\"}, {\"dateTime\": \"2013-09-12\", \"value\": \"447\"}, {\"dateTime\": \"2013-09-24\", \"value\": \"452\"}, {\"dateTime\": \"2013-10-30\", \"value\": \"346\"}, {\"dateTime\": \"2013-10-31\", \"value\": \"833\"}], \"sleep-minutesAfterWakeup\": [{\"dateTime\": \"2013-05-31\", \"value\": \"4\"}, {\"dateTime\": \"2013-09-24\", \"value\": \"6\"}], \"sleep-efficiency\": [{\"dateTime\": \"2013-05-17\", \"value\": \"95\"}, {\"dateTime\": \"2013-05-18\", \"value\": \"100\"}, {\"dateTime\": \"2013-05-19\", \"value\": \"100\"}, {\"dateTime\": \"2013-05-20\", \"value\": \"98\"}, {\"dateTime\": \"2013-05-22\", \"value\": \"99\"}, {\"dateTime\": \"2013-05-23\", \"value\": \"96\"}, {\"dateTime\": \"2013-05-26\", \"value\": \"100\"}, {\"dateTime\": \"2013-05-30\", \"value\": \"88\"}, {\"dateTime\": \"2013-05-31\", \"value\": \"78\"}, {\"dateTime\": \"2013-06-08\", \"value\": \"100\"}, {\"dateTime\": \"2013-06-29\", \"value\": \"92\"}, {\"dateTime\": \"2013-07-22\", \"value\": \"100\"}, {\"dateTime\": \"2013-07-23\", \"value\": \"100\"}, {\"dateTime\": \"2013-08-10\", \"value\": \"99\"}, {\"dateTime\": \"2013-09-02\", \"value\": \"100\"}, {\"dateTime\": \"2013-09-03\", \"value\": \"99\"}, {\"dateTime\": \"2013-09-04\", \"value\": \"100\"}, {\"dateTime\": \"2013-09-12\", \"value\": \"98\"}, {\"dateTime\": \"2013-09-24\", \"value\": \"100\"}, {\"dateTime\": \"2013-10-30\", \"value\": \"82\"}, {\"dateTime\": \"2013-10-31\", \"value\": \"87\"}], \"sleep-minutesToFallAsleep\": [{\"dateTime\": \"2013-05-17\", \"value\": \"5\"}, {\"dateTime\": \"2013-05-19\", \"value\": \"18\"}, {\"dateTime\": \"2013-05-20\", \"value\": \"44\"}, {\"dateTime\": \"2013-05-22\", \"value\": \"4\"}, {\"dateTime\": \"2013-05-26\", \"value\": \"16\"}, {\"dateTime\": \"2013-05-31\", \"value\": \"5\"}, {\"dateTime\": \"2013-06-29\", \"value\": \"3\"}, {\"dateTime\": \"2013-07-23\", \"value\": \"5\"}, {\"dateTime\": \"2013-08-10\", \"value\": \"11\"}, {\"dateTime\": \"2013-09-04\", \"value\": \"9\"}, {\"dateTime\": \"2013-09-12\", \"value\": \"6\"}, {\"dateTime\": \"2013-09-24\", \"value\": \"7\"}, {\"dateTime\": \"2013-10-30\", \"value\": \"2\"}, {\"dateTime\": \"2013-10-31\", \"value\": \"7\"}], \"sleep-timeInBed\": [{\"dateTime\": \"2013-05-17\", \"value\": \"25\"}, {\"dateTime\": \"2013-05-18\", \"value\": \"275\"}, {\"dateTime\": \"2013-05-19\", \"value\": \"278\"}, {\"dateTime\": \"2013-05-20\", \"value\": \"407\"}, {\"dateTime\": \"2013-05-22\", \"value\": \"440\"}, {\"dateTime\": \"2013-05-23\", \"value\": \"269\"}, {\"dateTime\": \"2013-05-26\", \"value\": \"500\"}, {\"dateTime\": \"2013-05-30\", \"value\": \"961\"}, {\"dateTime\": \"2013-05-31\", \"value\": \"306\"}, {\"dateTime\": \"2013-06-08\", \"value\": \"480\"}, {\"dateTime\": \"2013-06-29\", \"value\": \"961\"}, {\"dateTime\": \"2013-07-22\", \"value\": \"12\"}, {\"dateTime\": \"2013-07-23\", \"value\": \"75\"}, {\"dateTime\": \"2013-08-10\", \"value\": \"257\"}, {\"dateTime\": \"2013-09-02\", \"value\": \"405\"}, {\"dateTime\": \"2013-09-03\", \"value\": \"405\"}, {\"dateTime\": \"2013-09-04\", \"value\": \"389\"}, {\"dateTime\": \"2013-09-12\", \"value\": \"460\"}, {\"dateTime\": \"2013-09-24\", \"value\": \"465\"}, {\"dateTime\": \"2013-10-30\", \"value\": \"425\"}, {\"dateTime\": \"2013-10-31\", \"value\": \"961\"}], \"sleep-minutesAwake\": [{\"dateTime\": \"2013-05-17\", \"value\": \"1\"}, {\"dateTime\": \"2013-05-20\", \"value\": \"7\"}, {\"dateTime\": \"2013-05-22\", \"value\": \"4\"}, {\"dateTime\": \"2013-05-23\", \"value\": \"11\"}, {\"dateTime\": \"2013-05-30\", \"value\": \"117\"}, {\"dateTime\": \"2013-05-31\", \"value\": \"66\"}, {\"dateTime\": \"2013-06-29\", \"value\": \"77\"}, {\"dateTime\": \"2013-08-10\", \"value\": \"2\"}, {\"dateTime\": \"2013-09-03\", \"value\": \"5\"}, {\"dateTime\": \"2013-09-04\", \"value\": \"1\"}, {\"dateTime\": \"2013-09-12\", \"value\": \"7\"}, {\"dateTime\": \"2013-10-30\", \"value\": \"77\"}, {\"dateTime\": \"2013-10-31\", \"value\": \"121\"}], \"sleep-startTime\": [{\"dateTime\": \"2013-05-17\", \"value\": \"22:06\"}, {\"dateTime\": \"2013-05-18\", \"value\": \"04:03\"}, {\"dateTime\": \"2013-05-19\", \"value\": \"01:48\"}, {\"dateTime\": \"2013-05-20\", \"value\": \"02:23\"}, {\"dateTime\": \"2013-05-22\", \"value\": \"02:25\"}, {\"dateTime\": \"2013-05-23\", \"value\": \"04:15\"}, {\"dateTime\": \"2013-05-26\", \"value\": \"03:49\"}, {\"dateTime\": \"2013-05-30\", \"value\": \"20:47\"}, {\"dateTime\": \"2013-05-31\", \"value\": \"10:09\"}, {\"dateTime\": \"2013-06-08\", \"value\": \"01:30\"}, {\"dateTime\": \"2013-06-29\", \"value\": \"23:51\"}, {\"dateTime\": \"2013-07-22\", \"value\": \"16:34\"}, {\"dateTime\": \"2013-07-23\", \"value\": \"08:23\"}, {\"dateTime\": \"2013-08-10\", \"value\": \"04:32\"}, {\"dateTime\": \"2013-09-02\", \"value\": \"01:45\"}, {\"dateTime\": \"2013-09-03\", \"value\": \"01:45\"}, {\"dateTime\": \"2013-09-04\", \"value\": \"01:40\"}, {\"dateTime\": \"2013-09-12\", \"value\": \"01:50\"}, {\"dateTime\": \"2013-09-24\", \"value\": \"02:32\"}, {\"dateTime\": \"2013-10-30\", \"value\": \"14:26\"}, {\"dateTime\": \"2013-10-31\", \"value\": \"01:25\"}]}"
     ],
     "language": "python",
     "metadata": {},
     "outputs": [],
     "prompt_number": 261
    },
    {
     "cell_type": "code",
     "collapsed": false,
     "input": [
      "from datetime import datetime, timedelta\n",
      "temp = dattemp['sleep-startTime']\n",
      "startTime_temp = temp\n",
      "timeInBed_temp = dattemp['sleep-timeInBed']\n",
      "date = dict((t['dateTime'], i) for i, t in enumerate(temp))\n",
      "\n",
      "date = date.keys()\n",
      "data = dict()\n",
      "\n",
      "startTime = list(xrange(len(date)))\n",
      "timeInBed = list(xrange(len(date)))\n",
      "awakeTime = list(xrange(len(date)))\n",
      "for j in range(len(date)):\n",
      "    dtemp = date[j]\n",
      "    startTime[j] = [e['value'] for e in startTime_temp if e['dateTime'] == dtemp]\n",
      "    timeInBed[j] = [e['value'] for e in timeInBed_temp if e['dateTime'] == dtemp]\n",
      "    timestamp = dtemp + ' ' + startTime[j][0]\n",
      "    Tbed = datetime.strptime(timestamp, '%Y-%m-%d %H:%M')\n",
      "    Tawake = Tbed + timedelta(minutes=int(timeInBed[j][0]))\n",
      "    awakeTime[j] = [Tawake.strftime('%H:%M')]\n",
      "#     awakeTime.append([Tawake.strftime('%H:%M')])\n",
      "\n",
      "# print(datetime.datetime.strptime(date[0] + ' ' + startTime[0][0], '%Y-%m-%d HH:MM').time())\n",
      "# print(str(date[0])+str(startTime[0][0]))\n",
      "#     timeInBed.append([int(e['value']) for e in timeInBed_temp if e['dateTime'] == dtemp])\n",
      "    \n",
      "# data = {\n",
      "#         'dateTime': date,\n",
      "#         'sleep-startTime': startTime,\n",
      "#         'sleep-timeInBed': timeInBed,\n",
      "#         }\n",
      "# print startTime"
     ],
     "language": "python",
     "metadata": {},
     "outputs": [
      {
       "ename": "NameError",
       "evalue": "name 'startTime' is not defined",
       "output_type": "pyerr",
       "traceback": [
        "\u001b[0;31m---------------------------------------------------------------------------\u001b[0m\n\u001b[0;31mNameError\u001b[0m                                 Traceback (most recent call last)",
        "\u001b[0;32m<ipython-input-269-cce75ad83aaf>\u001b[0m in \u001b[0;36m<module>\u001b[0;34m()\u001b[0m\n\u001b[1;32m     10\u001b[0m \u001b[0;32mfor\u001b[0m \u001b[0mj\u001b[0m \u001b[0;32min\u001b[0m \u001b[0mrange\u001b[0m\u001b[0;34m(\u001b[0m\u001b[0mlen\u001b[0m\u001b[0;34m(\u001b[0m\u001b[0mdate\u001b[0m\u001b[0;34m)\u001b[0m\u001b[0;34m)\u001b[0m\u001b[0;34m:\u001b[0m\u001b[0;34m\u001b[0m\u001b[0m\n\u001b[1;32m     11\u001b[0m     \u001b[0mdtemp\u001b[0m \u001b[0;34m=\u001b[0m \u001b[0mdate\u001b[0m\u001b[0;34m[\u001b[0m\u001b[0mj\u001b[0m\u001b[0;34m]\u001b[0m\u001b[0;34m\u001b[0m\u001b[0m\n\u001b[0;32m---> 12\u001b[0;31m     \u001b[0mstartTime\u001b[0m\u001b[0;34m.\u001b[0m\u001b[0mappend\u001b[0m\u001b[0;34m(\u001b[0m\u001b[0;34m[\u001b[0m\u001b[0me\u001b[0m\u001b[0;34m[\u001b[0m\u001b[0;34m'value'\u001b[0m\u001b[0;34m]\u001b[0m \u001b[0;32mfor\u001b[0m \u001b[0me\u001b[0m \u001b[0;32min\u001b[0m \u001b[0mstartTime_temp\u001b[0m \u001b[0;32mif\u001b[0m \u001b[0me\u001b[0m\u001b[0;34m[\u001b[0m\u001b[0;34m'dateTime'\u001b[0m\u001b[0;34m]\u001b[0m \u001b[0;34m==\u001b[0m \u001b[0mdtemp\u001b[0m\u001b[0;34m]\u001b[0m\u001b[0;34m)\u001b[0m\u001b[0;34m\u001b[0m\u001b[0m\n\u001b[0m\u001b[1;32m     13\u001b[0m     \u001b[0mtimeInBed\u001b[0m\u001b[0;34m.\u001b[0m\u001b[0mappend\u001b[0m\u001b[0;34m(\u001b[0m\u001b[0;34m[\u001b[0m\u001b[0me\u001b[0m\u001b[0;34m[\u001b[0m\u001b[0;34m'value'\u001b[0m\u001b[0;34m]\u001b[0m \u001b[0;32mfor\u001b[0m \u001b[0me\u001b[0m \u001b[0;32min\u001b[0m \u001b[0mtimeInBed_temp\u001b[0m \u001b[0;32mif\u001b[0m \u001b[0me\u001b[0m\u001b[0;34m[\u001b[0m\u001b[0;34m'dateTime'\u001b[0m\u001b[0;34m]\u001b[0m \u001b[0;34m==\u001b[0m \u001b[0mdtemp\u001b[0m\u001b[0;34m]\u001b[0m\u001b[0;34m)\u001b[0m\u001b[0;34m\u001b[0m\u001b[0m\n\u001b[1;32m     14\u001b[0m     \u001b[0mtimestamp\u001b[0m \u001b[0;34m=\u001b[0m \u001b[0mdtemp\u001b[0m \u001b[0;34m+\u001b[0m \u001b[0;34m' '\u001b[0m \u001b[0;34m+\u001b[0m \u001b[0mstartTime\u001b[0m\u001b[0;34m[\u001b[0m\u001b[0mj\u001b[0m\u001b[0;34m]\u001b[0m\u001b[0;34m[\u001b[0m\u001b[0;36m0\u001b[0m\u001b[0;34m]\u001b[0m\u001b[0;34m\u001b[0m\u001b[0m\n",
        "\u001b[0;31mNameError\u001b[0m: name 'startTime' is not defined"
       ]
      }
     ],
     "prompt_number": 269
    },
    {
     "cell_type": "code",
     "collapsed": false,
     "input": [
      "startTime = list(xrange(len(date)))\n",
      "print len(startTime)"
     ],
     "language": "python",
     "metadata": {},
     "outputs": [
      {
       "output_type": "stream",
       "stream": "stdout",
       "text": [
        "21\n"
       ]
      }
     ],
     "prompt_number": 274
    },
    {
     "cell_type": "code",
     "collapsed": false,
     "input": [],
     "language": "python",
     "metadata": {},
     "outputs": [],
     "prompt_number": 164
    },
    {
     "cell_type": "code",
     "collapsed": false,
     "input": [],
     "language": "python",
     "metadata": {},
     "outputs": []
    }
   ],
   "metadata": {}
  }
 ]
}
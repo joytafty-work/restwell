{
 "metadata": {
  "name": ""
 },
 "nbformat": 3,
 "nbformat_minor": 0,
 "worksheets": [
  {
   "cells": [
    {
     "cell_type": "code",
     "collapsed": false,
     "input": [
      "import httplib, time, ConfigParser, sys, os\n",
      "import oauth2 as oauth"
     ],
     "language": "python",
     "metadata": {},
     "outputs": [],
     "prompt_number": 1
    },
    {
     "cell_type": "code",
     "collapsed": false,
     "input": [
      "config = ConfigParser.RawConfigParser()\n",
      "CONSUMER_KEY = os.getenv(\"FITBIT_KEY\")\n",
      "CONSUMER_SECRET = os.getenv(\"FITBIT_SECRET\")\n",
      "SERVER = \"api.fitbit.com\""
     ],
     "language": "python",
     "metadata": {},
     "outputs": [],
     "prompt_number": 2
    },
    {
     "cell_type": "code",
     "collapsed": false,
     "input": [
      "REQUEST_TOKEN_URL = 'http://%s/oauth/request_token' % SERVER \n",
      "ACCESS_TOKEN_URL = 'http://%s/oauth/access_token' % SERVER \n",
      "AUTHORIZATION_URL = 'http://%s/oauth/authorize' % SERVER"
     ],
     "language": "python",
     "metadata": {},
     "outputs": [],
     "prompt_number": 3
    },
    {
     "cell_type": "code",
     "collapsed": false,
     "input": [
      "# Request Token\n",
      "# 1. configure token request \n",
      "connection = httplib.HTTPSConnection(SERVER)\n",
      "consumer = oauth.Consumer(CONSUMER_KEY, CONSUMER_SECRET)\n",
      "signature_method = oauth.SignatureMethod_PLAINTEXT()\n",
      "oauth_request = oauth.Request.from_consumer_and_token(consumer, http_url=REQUEST_TOKEN_URL)\n",
      "oauth_request.sign_request(signature_method, consumer, None)\n",
      "url = oauth_request.to_url()\n",
      "connection.request(oauth_request.method, url)\n",
      "response = connection.getresponse()\n",
      "s = response.read()\n",
      "# If oauth_timestamp more than 5 mins, might throw an error\n",
      "print oauth_request\n",
      "print s # Request token is in S\n",
      "# print s\n",
      "# print url\n",
      "# print oauth_request\n",
      "# print signature_method"
     ],
     "language": "python",
     "metadata": {},
     "outputs": [
      {
       "output_type": "stream",
       "stream": "stdout",
       "text": [
        "{'oauth_body_hash': '2jmj7l5rSw0yVb/vlWAYkK/YBwk=', u'oauth_nonce': u'96358707', u'oauth_timestamp': u'1386542504', u'oauth_consumer_key': u'e83cb29ae0f0439e8aeb2704b5e9eaa4', 'oauth_signature_method': 'PLAINTEXT', u'oauth_version': u'1.0', 'oauth_signature': '77fdd761c63247868627cc4ed2114306&'}\n",
        "oauth_token=7d418379efb294c940378177072f4ac2&oauth_token_secret=d6810b2f07e7b039b8d417bd3e3d996d&oauth_callback_confirmed=true\n"
       ]
      }
     ],
     "prompt_number": 4
    },
    {
     "cell_type": "code",
     "collapsed": false,
     "input": [
      "# Strip REQUEST TOKEN\n",
      "auth_token = oauth.Token.from_string(s)\n",
      "# Build AUTHORIZATION URL (ask for ACCESS TOKEN) \n",
      "# CONSUMER_SECRET&REQUEST_TOKEN\n",
      "auth_url = \"%s?oauth_token=%s\" % (AUTHORIZATION_URL, auth_token.key)\n",
      "print auth_url\n",
      "# os.environ[\"FITBIT_PIN\"] = \"9iivattpe5hbbp2q2piojbb63r\"\n",
      "# print os.getenv(\"FITBIT_PIN\")\n",
      "\n",
      "# Use REQUEST TOKEN to ask for ACCESS TOKEN\n"
     ],
     "language": "python",
     "metadata": {},
     "outputs": [
      {
       "output_type": "stream",
       "stream": "stdout",
       "text": [
        "http://api.fitbit.com/oauth/authorize?oauth_token=7d418379efb294c940378177072f4ac2\n"
       ]
      }
     ],
     "prompt_number": 8
    },
    {
     "cell_type": "code",
     "collapsed": false,
     "input": [
      "# Make API calls\n",
      "call1 = '/1/user/-/profile.xml'\n",
      "call2 = '/1/user/-/activities/calories/date/2013-11-01/2013-11-01.xml'\n",
      "\n",
      "signature_method2 = oauth.SignatureMethod_PLAINTEXT()\n",
      "connection2 = httplib.HTTPSConnection(SERVER)\n",
      "access_token = auth_token\n",
      "consumer2 = oauth.Consumer(os.getenv(\"CONSUMER_KEY\"), os.getenv(\"CONSUMER_SECRET\"))\n",
      "final_url1 = 'http://' + SERVER + call1\n",
      "final_url2 = 'http://' + SERVER + call2\n",
      "\n",
      "oauth_request2 = oauth.Request.from_consumer_and_token(consumer2, token=access_token, http_url=final_url1)\n",
      "print oauth_request2\n",
      "oauth_request2.sign_request(signature_method2, consumer2, access_token)\n",
      "headers = oauth_request2.to_header(realm='api.fitbit.com') \n",
      "print headers\n",
      "connection2.request('GET', call1, headers=headers)\n",
      "response = connection2.getresponse()\n",
      "data = response.read()\n",
      "print data"
     ],
     "language": "python",
     "metadata": {},
     "outputs": [
      {
       "output_type": "stream",
       "stream": "stdout",
       "text": [
        "{u'oauth_version': u'1.0', u'oauth_consumer_key': u'e83cb29ae0f0439e8aeb2704b5e9eaa4', u'oauth_token': u'7d418379efb294c940378177072f4ac2', u'oauth_nonce': u'79970847', u'oauth_timestamp': u'1386542537'}\n",
        "{'Authorization': u'OAuth realm=\"api.fitbit.com\", oauth_body_hash=\"2jmj7l5rSw0yVb%2FvlWAYkK%2FYBwk%3D\", oauth_nonce=\"79970847\", oauth_timestamp=\"1386542537\", oauth_consumer_key=\"e83cb29ae0f0439e8aeb2704b5e9eaa4\", oauth_signature_method=\"PLAINTEXT\", oauth_version=\"1.0\", oauth_token=\"7d418379efb294c940378177072f4ac2\", oauth_signature=\"77fdd761c63247868627cc4ed2114306%26d6810b2f07e7b039b8d417bd3e3d996d\"'}\n",
        "<?xml version=\"1.0\" encoding=\"UTF-8\"?><result><errors><apiError><errorType>oauth</errorType><fieldName>oauth_access_token</fieldName><message>Invalid signature or token '77fdd761c63247868627cc4ed2114306&amp;d6810b2f07e7b039b8d417bd3e3d996d' or token '7d418379efb294c940378177072f4ac2'</message></apiError></errors><success>false</success></result>"
       ]
      },
      {
       "output_type": "stream",
       "stream": "stdout",
       "text": [
        "\n"
       ]
      }
     ],
     "prompt_number": 9
    },
    {
     "cell_type": "code",
     "collapsed": false,
     "input": [
      "data"
     ],
     "language": "python",
     "metadata": {},
     "outputs": [
      {
       "metadata": {},
       "output_type": "pyout",
       "prompt_number": 10,
       "text": [
        "'<?xml version=\"1.0\" encoding=\"UTF-8\"?><result><errors><apiError><errorType>oauth</errorType><fieldName>oauth_access_token</fieldName><message>Invalid signature or token \\'77fdd761c63247868627cc4ed2114306&amp;d6810b2f07e7b039b8d417bd3e3d996d\\' or token \\'7d418379efb294c940378177072f4ac2\\'</message></apiError></errors><success>false</success></result>'"
       ]
      }
     ],
     "prompt_number": 10
    },
    {
     "cell_type": "code",
     "collapsed": false,
     "input": [],
     "language": "python",
     "metadata": {},
     "outputs": []
    }
   ],
   "metadata": {}
  }
 ]
}